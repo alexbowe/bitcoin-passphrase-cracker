{
 "cells": [
  {
   "cell_type": "code",
   "execution_count": 1,
   "metadata": {},
   "outputs": [],
   "source": [
    "import jellyfish\n",
    "import urllib.request\n",
    "import jsonlines\n",
    "import gzip\n",
    "import pandas as pd\n",
    "import matplotlib.pyplot as plt\n",
    "import itertools as it\n",
    "\n",
    "GH_CORPUS_URL = \"https://github-typo-corpus.s3.amazonaws.com/data/github-typo-corpus.v1.0.0.jsonl.gz\""
   ]
  },
  {
   "cell_type": "code",
   "execution_count": 2,
   "metadata": {},
   "outputs": [],
   "source": [
    "def get_github_typo_data(url, languages):\n",
    "    def extract_typos(commit):\n",
    "        for edit in commit[\"edits\"]:\n",
    "            if edit[\"src\"][\"lang\"] not in languages: continue\n",
    "            if edit[\"tgt\"][\"lang\"] not in languages: continue\n",
    "            if \"is_typo\" not in edit: continue\n",
    "            if not edit[\"is_typo\"]: continue\n",
    "\n",
    "            source = edit[\"src\"][\"text\"]\n",
    "            target = edit[\"tgt\"][\"text\"]\n",
    "            distance = jellyfish.damerau_levenshtein_distance(source, target)\n",
    "            yield {\"source\": source, \"target\": target, \"distance\": distance}\n",
    "\n",
    "    response = urllib.request.urlopen(url)\n",
    "    with gzip.GzipFile(fileobj=response) as f:\n",
    "        commits = jsonlines.Reader(f)\n",
    "        typos = it.chain.from_iterable(extract_typos(commit) for commit in commits)\n",
    "        df = pd.DataFrame(typos)\n",
    "\n",
    "    return df"
   ]
  },
  {
   "cell_type": "code",
   "execution_count": 3,
   "metadata": {},
   "outputs": [
    {
     "name": "stdout",
     "output_type": "stream",
     "text": [
      "CPU times: user 1min, sys: 3.49 s, total: 1min 4s\n",
      "Wall time: 1min 13s\n"
     ]
    }
   ],
   "source": [
    "%%time\n",
    "df = get_github_typo_data(GH_CORPUS_URL, languages={\"eng\"})"
   ]
  },
  {
   "cell_type": "code",
   "execution_count": 4,
   "metadata": {},
   "outputs": [
    {
     "data": {
      "text/plain": [
       "Text(0.5, 0, 'Damerau-Levenshtein Distance')"
      ]
     },
     "execution_count": 4,
     "metadata": {},
     "output_type": "execute_result"
    },
    {
     "data": {
      "image/png": "[encoded data removed]",
      "text/plain": [
       "<Figure size 432x288 with 1 Axes>"
      ]
     },
     "metadata": {
      "needs_background": "light"
     },
     "output_type": "display_data"
    }
   ],
   "source": [
    "title = \"Frequency of Damerau-Levenshtein Distances of\\nTypos in GitHub Commits\"\n",
    "df.distance.plot(kind=\"hist\", bins=range(1, 17), density=True, title=title, xticks=range(1, 16), align = \"left\", rwidth=0.8)\n",
    "plt.xlabel(\"Damerau-Levenshtein Distance\")"
   ]
  },
  {
   "cell_type": "code",
   "execution_count": null,
   "metadata": {},
   "outputs": [],
   "source": []
  }
 ],
 "metadata": {
  "kernelspec": {
   "display_name": "Python 3",
   "language": "python",
   "name": "python3"
  },
  "language_info": {
   "codemirror_mode": {
    "name": "ipython",
    "version": 3
   },
   "file_extension": ".py",
   "mimetype": "text/x-python",
   "name": "python",
   "nbconvert_exporter": "python",
   "pygments_lexer": "ipython3",
   "version": "3.8.3"
  }
 },
 "nbformat": 4,
 "nbformat_minor": 4
}
